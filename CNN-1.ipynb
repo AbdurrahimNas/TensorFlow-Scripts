{
 "cells": [
  {
   "cell_type": "code",
   "execution_count": null,
   "metadata": {},
   "outputs": [],
   "source": [
    "import tensorflow as tf \n",
    "import pandas as pd\n",
    "from tensorflow.keras.preprocessing.image import ImageDataGenerator\n",
    "import matplotlib.pyplot as plt"
   ]
  },
  {
   "cell_type": "code",
   "execution_count": null,
   "metadata": {},
   "outputs": [],
   "source": [
    "train_dir = \"C:/Users/NAS/Desktop/TensorFlow/CNN/pizza_steak/train\"\n",
    "test_dir  = \"C:/Users/NAS/Desktop/TensorFlow/CNN/pizza_steak/test\""
   ]
  },
  {
   "cell_type": "code",
   "execution_count": null,
   "metadata": {},
   "outputs": [],
   "source": [
    "train_datagen = ImageDataGenerator(\n",
    "    rescale=1/255.,\n",
    "    rotation_range=0.2,\n",
    "    shear_range=0.2,\n",
    "    horizontal_flip=True,\n",
    "    width_shift_range=0.2,\n",
    "    height_shift_range=0.2\n",
    "    )\n",
    "\n",
    "valid_datagen = ImageDataGenerator(\n",
    "    rescale=1/255.\n",
    ")\n",
    "\n",
    "train_data = train_datagen.flow_from_directory(\n",
    "    train_dir,\n",
    "    batch_size=32,\n",
    "    target_size=(224,224),\n",
    "    shuffle=True,\n",
    "    class_mode=\"binary\"\n",
    ")\n",
    "\n",
    "test_data = valid_datagen.flow_from_directory(\n",
    "    test_dir,\n",
    "    batch_size=32,\n",
    "    target_size=(224,224),\n",
    "    shuffle=False,\n",
    "    class_mode=\"binary\"\n",
    ")"
   ]
  },
  {
   "cell_type": "code",
   "execution_count": null,
   "metadata": {},
   "outputs": [],
   "source": [
    "tf.random.set_seed(42)\n",
    "\n",
    "model = tf.keras.Sequential([\n",
    "    tf.keras.layers.Conv2D(filters=10,kernel_size=3,strides=1,input_shape=(224,224,3),activation=\"relu\"),\n",
    "    tf.keras.layers.Conv2D(filters=10,kernel_size=3,activation=\"relu\"),\n",
    "    tf.keras.layers.MaxPool2D(pool_size=2,padding=\"valid\"),\n",
    "    tf.keras.layers.Conv2D(filters=10,kernel_size=3,activation=\"relu\"),\n",
    "    tf.keras.layers.Conv2D(filters=10,kernel_size=3,activation=\"relu\"),\n",
    "    tf.keras.layers.MaxPool2D(pool_size=2),\n",
    "    tf.keras.layers.Conv2D(filters=10,kernel_size=3,activation=\"relu\"),\n",
    "    tf.keras.layers.Conv2D(filters=10,kernel_size=3,activation=\"relu\"),\n",
    "    tf.keras.layers.MaxPool2D(pool_size=2),\n",
    "    tf.keras.layers.Flatten(),\n",
    "    tf.keras.layers.Dense(1,\"sigmoid\")\n",
    "])\n",
    "\n",
    "\n",
    "model.compile(\n",
    "    loss=tf.keras.losses.BinaryCrossentropy(),\n",
    "    optimizer=tf.keras.optimizers.Adam(),\n",
    "    metrics=[\"accuracy\"]\n",
    ")\n",
    "\n",
    "history = model.fit(\n",
    "    train_data,\n",
    "    epochs=5,\n",
    "    steps_per_epoch=len(train_data),\n",
    "    validation_data=test_data,\n",
    "    validation_steps=len(test_data)\n",
    ")"
   ]
  },
  {
   "cell_type": "code",
   "execution_count": null,
   "metadata": {},
   "outputs": [],
   "source": [
    "plt.figure(figsize=(10,7))\n",
    "plt.plot(history[\"val_loss\"])\n",
    "plt.plot(history[\"loss\"])\n",
    "plt.title(\"val_loss & loss\")\n",
    "plt.legend()\n",
    "plt.axis(False)\n",
    "plt.figure(figsize=(10,7))\n",
    "plt.plot(history[\"accuracy\"])\n",
    "plt.plot(history[\"val_accuracy\"])\n",
    "plt.title(\"accuracy & val_accuracy\")\n",
    "plt.axis(False)\n",
    "plt.legend()\n"
   ]
  }
 ],
 "metadata": {
  "kernelspec": {
   "display_name": "Python 3.10.4 64-bit",
   "language": "python",
   "name": "python3"
  },
  "language_info": {
   "name": "python",
   "version": "3.10.4"
  },
  "orig_nbformat": 4,
  "vscode": {
   "interpreter": {
    "hash": "e15f063e7e42353c9736ef962fc7c67de892cf5c7bb88439fb47c3c850fa6062"
   }
  }
 },
 "nbformat": 4,
 "nbformat_minor": 2
}
