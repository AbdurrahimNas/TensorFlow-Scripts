{
 "cells": [
  {
   "cell_type": "code",
   "execution_count": null,
   "metadata": {},
   "outputs": [],
   "source": [
    "import tensorflow as tf \n",
    "import pandas as pd\n",
    "from tensorflow.keras.preprocessing.image import ImageDataGenerator\n",
    "import matplotlib.pyplot as plt"
   ]
  },
  {
   "cell_type": "code",
   "execution_count": null,
   "metadata": {},
   "outputs": [],
   "source": [
    "train_dir2 = \"C:/Users/NAS/Desktop/TensorFlow/CNN/10_food_classes_all_data/train\"\n",
    "test_dir2  = \"C:/Users/NAS/Desktop/TensorFlow/CNN/10_food_classes_all_data/test\""
   ]
  },
  {
   "cell_type": "code",
   "execution_count": null,
   "metadata": {},
   "outputs": [],
   "source": [
    "train_datagen2 = ImageDataGenerator(\n",
    "    rescale=1/255.,\n",
    "    rotation_range=0.2,\n",
    "    shear_range=0.2,\n",
    "    width_shift_range=0.2,\n",
    "    height_shift_range=0.2,\n",
    "    horizontal_flip=True \n",
    ")\n",
    "\n",
    "test_datagen2 = ImageDataGenerator(rescale=1/255.)\n",
    "\n",
    "train_data2 = train_datagen2.flow_from_directory(\n",
    "    train_dir2,\n",
    "    batch_size=32,\n",
    "    target_size=(224,224),\n",
    "    class_mode=\"categorical\",\n",
    "    shuffle=True \n",
    ")\n",
    "\n",
    "test_data2 = test_datagen2.flow_from_directory(\n",
    "    test_dir2,\n",
    "    batch_size=32,\n",
    "    target_size=(224,224),\n",
    "    class_mode=\"categorical\",\n",
    "    shuffle=False\n",
    ")"
   ]
  },
  {
   "cell_type": "code",
   "execution_count": null,
   "metadata": {},
   "outputs": [],
   "source": [
    "tf.random.set_seed(42)\n",
    "\n",
    "model2 = tf.keras.Sequential([\n",
    "    tf.keras.layers.Conv2D(filters=10,kernel_size=3,strides=1,input_shape=(224,224,3),activation=\"relu\"),\n",
    "    tf.keras.layers.Conv2D(filters=10,kernel_size=3,activation=\"relu\"),\n",
    "    tf.keras.layers.MaxPool2D(pool_size=2,padding=\"valid\"),\n",
    "    tf.keras.layers.Conv2D(filters=10,kernel_size=3,activation=\"relu\"),\n",
    "    tf.keras.layers.Conv2D(filters=10,kernel_size=3,activation=\"relu\"),\n",
    "    tf.keras.layers.MaxPool2D(pool_size=2),\n",
    "    tf.keras.layers.Conv2D(filters=10,kernel_size=3,activation=\"relu\"),\n",
    "    tf.keras.layers.Conv2D(filters=10,kernel_size=3,activation=\"relu\"),\n",
    "    tf.keras.layers.MaxPool2D(pool_size=2),\n",
    "    tf.keras.layers.Flatten(),\n",
    "    tf.keras.layers.Dense(1,activation=\"softmax\")\n",
    "])\n",
    "\n",
    "\n",
    "model2.compile(\n",
    "    loss=tf.keras.losses.BinaryCrossentropy(),\n",
    "    optimizer=tf.keras.optimizers.Adam(),\n",
    "    metrics=[\"accuracy\"]\n",
    ")\n",
    "\n",
    "lr_sch = tf.keras.callbacks.LearningRateScheduler(lambda epoch: 1e-3*10**(epoch/20))\n",
    "\n",
    "history2 = model2.fit(\n",
    "    train_data2,\n",
    "    epochs=5,\n",
    "    steps_per_epoch=len(train_data2),\n",
    "    validation_data=test_data2,\n",
    "    validation_steps=len(test_data2),\n",
    "    callbacks=[lr_sch]\n",
    ")"
   ]
  },
  {
   "cell_type": "code",
   "execution_count": null,
   "metadata": {},
   "outputs": [],
   "source": [
    "plt.figure(figsize=(10,7))\n",
    "plt.plot(history2.history[\"lr\"])\n"
   ]
  }
 ],
 "metadata": {
  "kernelspec": {
   "display_name": "Python 3.10.4 64-bit",
   "language": "python",
   "name": "python3"
  },
  "language_info": {
   "name": "python",
   "version": "3.10.4"
  },
  "orig_nbformat": 4,
  "vscode": {
   "interpreter": {
    "hash": "e15f063e7e42353c9736ef962fc7c67de892cf5c7bb88439fb47c3c850fa6062"
   }
  }
 },
 "nbformat": 4,
 "nbformat_minor": 2
}
