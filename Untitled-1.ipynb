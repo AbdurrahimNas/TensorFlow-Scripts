{
 "cells": [
  {
   "cell_type": "code",
   "execution_count": null,
   "metadata": {},
   "outputs": [],
   "source": [
    "import tensorflow as tf\n",
    "import pandas as pd\n",
    "from sklearn.compose import make_column_transformer\n",
    "from sklearn.preprocessing import MinMaxScaler, OneHotEncoder\n",
    "from sklearn.model_selection import train_test_split\n",
    "\n",
    "\n"
   ]
  },
  {
   "cell_type": "code",
   "execution_count": null,
   "metadata": {},
   "outputs": [],
   "source": [
    "insurance3 = pd.read_csv(\"https://raw.githubusercontent.com/stedy/Machine-Learning-with-R-datasets/master/insurance.csv\")\n",
    "insurance3.head()\n",
    "\n",
    "\n"
   ]
  },
  {
   "cell_type": "code",
   "execution_count": null,
   "metadata": {},
   "outputs": [],
   "source": [
    "ct3 = make_column_transformer((MinMaxScaler(),[\"age\",\"bmi\",\"children\"]),(OneHotEncoder(handle_unknown=\"ignore\"),[\"sex\",\"smoker\",\"region\"]))\n",
    "\n",
    "X3 = insurance3.drop(\"charges\",axis=1)\n",
    "y3 = insurance3[\"charges\"]\n",
    "\n",
    "X3_train, X3_test, y3_train, y3_test = train_test_split(X3, y3, test_size=0.2,random_state=42)\n",
    "\n",
    "ct3.fit(X3_train)\n",
    "\n",
    "X3_train_normalized = ct3.transform(X3_train)\n",
    "X3_test_normalized  = ct3.transform(X3_test)\n",
    "\n",
    "\n",
    "model3 = tf.keras.Sequential([\n",
    "    tf.keras.layers.Dense(100),\n",
    "    tf.keras.layers.Dense(100),\n",
    "    tf.keras.layers.Dense(100),\n",
    "    tf.keras.layers.Dense(1)\n",
    "])\n",
    "\n",
    "model3.compile(\n",
    "    loss = tf.keras.losses.mae,\n",
    "    optimizer = tf.keras.optimizers.Adam(lr=0.1),\n",
    "    metrics = [\"mae\"]\n",
    ")\n",
    "\n",
    "model3.fit(X_train_normalized,y_train,epochs = 200)\n",
    "\n"
   ]
  },
  {
   "cell_type": "code",
   "execution_count": null,
   "metadata": {},
   "outputs": [],
   "source": [
    "model3.evaluate(X_test_normalized,y_test)"
   ]
  }
 ],
 "metadata": {
  "kernelspec": {
   "display_name": "Python 3.10.4 64-bit",
   "language": "python",
   "name": "python3"
  },
  "language_info": {
   "name": "python",
   "version": "3.10.4"
  },
  "orig_nbformat": 4,
  "vscode": {
   "interpreter": {
    "hash": "e15f063e7e42353c9736ef962fc7c67de892cf5c7bb88439fb47c3c850fa6062"
   }
  }
 },
 "nbformat": 4,
 "nbformat_minor": 2
}
