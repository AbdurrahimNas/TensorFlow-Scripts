{
 "cells": [
  {
   "cell_type": "code",
   "execution_count": null,
   "metadata": {},
   "outputs": [],
   "source": [
    "import tensorflow as tf\n",
    "import tensorflow_hub as hub\n",
    "import matplotlib.pyplot as plt\n",
    "from tensorflow.keras.preprocessing.image import ImageDataGenerator"
   ]
  },
  {
   "cell_type": "code",
   "execution_count": null,
   "metadata": {},
   "outputs": [],
   "source": [
    "mobilenet_url = \"https://tfhub.dev/google/imagenet/mobilenet_v2_100_224/feature_vector/5\"\n",
    "train_dir2 = \"C:/Users/NAS/Desktop/TensorFlow/CNN/pizza_steak/train/\"\n",
    "test_dir2 = \"C:/Users/NAS/Desktop/TensorFlow/CNN/pizza_steak/test/\""
   ]
  },
  {
   "cell_type": "code",
   "execution_count": null,
   "metadata": {},
   "outputs": [],
   "source": [
    "train_datagen3 = ImageDataGenerator(\n",
    "    rescale=1/255.,\n",
    "    rotation_range=0.2,\n",
    "    shear_range=0.2,\n",
    "    width_shift_range=0.2,\n",
    "    height_shift_range=0.2,\n",
    "    horizontal_flip=True    \n",
    ")\n",
    "\n",
    "valid_datagen3 = ImageDataGenerator(\n",
    "    rescale=1/255.,\n",
    "    rotation_range=0.2,\n",
    "    shear_range=0.2,\n",
    "    width_shift_range=0.2,\n",
    "    height_shift_range=0.2,\n",
    "    horizontal_flip=True\n",
    ")\n",
    "\n",
    "train_data3 = train_datagen3.flow_from_directory(\n",
    "    train_dir2,\n",
    "    target_size=(224,224),\n",
    "    batch_size=32,\n",
    "    class_mode=\"binary\",\n",
    "    shuffle=True\n",
    ")\n",
    "\n",
    "valid_data3 = valid_datagen3.flow_from_directory(\n",
    "   test_dir2,\n",
    "   target_size=(224,224),\n",
    "   batch_size=32,\n",
    "   class_mode=\"binary\",\n",
    "   shuffle=False \n",
    ")\n"
   ]
  },
  {
   "cell_type": "code",
   "execution_count": null,
   "metadata": {},
   "outputs": [],
   "source": [
    "tf.random.set_seed(42)\n",
    "\n",
    "model3 = tf.keras.Sequential([\n",
    "    hub.KerasLayer(mobilenet_url,trainable=False,input_shape=(224,224,3),name=\"mobilenet_layer\"),\n",
    "    tf.keras.layers.Dense(1,activation=\"sigmoid\",name=\"binary_output_layer\")\n",
    "])\n",
    "\n",
    "model3.compile(\n",
    "    loss=tf.keras.losses.BinaryCrossentropy(),\n",
    "    optimizer=tf.keras.optimizers.Adam(),\n",
    "    metrics=[\"accuracy\"]\n",
    ")\n",
    "\n",
    "mobilenet_history3 = model3.fit(\n",
    "    train_data3,\n",
    "    epochs=5,\n",
    "    steps_per_epoch=len(train_data3),\n",
    "    validation_data=valid_data3,\n",
    "    validation_steps=len(valid_data3)\n",
    ")\n"
   ]
  },
  {
   "cell_type": "code",
   "execution_count": null,
   "metadata": {},
   "outputs": [],
   "source": [
    "epoch = range(len(mobilenet_history3.history[\"loss\"]))\n",
    "\n",
    "plt.figure(figsize=(10,7))\n",
    "plt.plot(epoch,mobilenet_history3.history[\"loss\"],label=\"loss\")\n",
    "plt.plot(epoch,mobilenet_history3.history[\"val_loss\"],label=\"val_loss\")\n",
    "plt.title(\"loss & val_loss\")\n",
    "plt.legend()\n",
    "plt.figure(figsize=(10,7))\n",
    "plt.plot(epoch,mobilenet_history3.history[\"accuracy\"],label=\"accuracy\")\n",
    "plt.plot(epoch,mobilenet_history3.history[\"val_accuracy\"],label=\"val_accuracy\")\n",
    "plt.title(\"accuracy & val_accuracy\")\n",
    "plt.legend();\n"
   ]
  }
 ],
 "metadata": {
  "kernelspec": {
   "display_name": "Python 3.10.4 64-bit",
   "language": "python",
   "name": "python3"
  },
  "language_info": {
   "name": "python",
   "version": "3.10.4"
  },
  "orig_nbformat": 4,
  "vscode": {
   "interpreter": {
    "hash": "e15f063e7e42353c9736ef962fc7c67de892cf5c7bb88439fb47c3c850fa6062"
   }
  }
 },
 "nbformat": 4,
 "nbformat_minor": 2
}
