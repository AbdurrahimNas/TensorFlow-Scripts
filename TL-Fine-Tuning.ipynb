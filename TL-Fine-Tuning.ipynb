{
 "cells": [
  {
   "cell_type": "code",
   "execution_count": null,
   "metadata": {},
   "outputs": [],
   "source": [
    "import tensorflow as tf\n",
    "from helper_functions import create_tensorboard_callback, plot_loss_curves, compare_historys, walk_through_dir, unzip_data\n",
    "import matplotlib.pyplot as plt\n"
   ]
  },
  {
   "cell_type": "code",
   "execution_count": null,
   "metadata": {},
   "outputs": [],
   "source": [
    "train_dir_10_percent = \"10_food_classes_10_percent/train/\"\n",
    "test_dir_10_percent  = \"10_food_classes_10_percent/test/\"\n",
    "\n"
   ]
  },
  {
   "cell_type": "code",
   "execution_count": null,
   "metadata": {},
   "outputs": [],
   "source": [
    "walk_through_dir(\"10_food_classes_10_percent\")"
   ]
  },
  {
   "cell_type": "code",
   "execution_count": null,
   "metadata": {},
   "outputs": [],
   "source": [
    "train_data_10_percent = tf.keras.preprocessing.image_dataset_from_directory(\n",
    "    train_dir_10_percent,\n",
    "    label_mode = \"categorical\",\n",
    "    batch_size=32,\n",
    "    image_size=(224,224),\n",
    "    shuffle = True \n",
    ")\n",
    "\n",
    "valid_data_10_percent = tf.keras.preprocessing.image_dataset_from_directory(\n",
    "    test_dir_10_percent,\n",
    "    label_mode = \"categorical\",\n",
    "    batch_size=32,\n",
    "    image_size=(224,224),\n",
    "    shuffle=False\n",
    ")\n"
   ]
  },
  {
   "cell_type": "code",
   "execution_count": null,
   "metadata": {},
   "outputs": [],
   "source": [
    "data_augmentation = tf.keras.Sequential([\n",
    "    tf.keras.layers.RandomFlip(\"horizontal\"),\n",
    "    tf.keras.layers.RandomHeight(0.2),\n",
    "    tf.keras.layers.RandomWidth(0.2),\n",
    "    tf.keras.layers.RandomZoom(0.2),\n",
    "    tf.keras.layers.RandomRotation(0.2)\n",
    "])"
   ]
  },
  {
   "cell_type": "code",
   "execution_count": null,
   "metadata": {},
   "outputs": [],
   "source": [
    "base_model = tf.keras.applications.EfficientNetB0(include_top=False)\n",
    "\n",
    "base_model.trainable = False\n",
    "\n",
    "inputs = tf.keras.Input(shape=(224,224,3),name=\"input_label\")\n",
    "\n",
    "x = data_augmentation(inputs)\n",
    "\n",
    "x = base_model(x,training=False)\n",
    "\n",
    "x = tf.keras.layers.GlobalAveragePooling2D(name=\"globalaveragepooling2D_layer\")(x)\n",
    "\n",
    "outputs = tf.keras.layers.Dense(10,activation=\"softmax\",name=\"output_layer\")(x)\n",
    "\n",
    "model_1 = tf.keras.Model(inputs, outputs)\n",
    "\n",
    "model_1.compile(\n",
    "    loss = tf.keras.losses.CategoricalCrossentropy(),\n",
    "    optimizer = tf.keras.optimizers.Adam(),\n",
    "    metrics = [\"accuracy\"]\n",
    ")\n",
    "\n",
    "initial_epochs = 10\n",
    "\n",
    "history_1 = model_1.fit(\n",
    "    train_data_10_percent,\n",
    "    epochs=initial_epochs,\n",
    "    steps_per_epoch=len(train_data_10_percent),\n",
    "    validation_data = valid_data_10_percent,\n",
    "    validation_steps = len(valid_data_10_percent),\n",
    "    callbacks = [create_tensorboard_callback(\n",
    "        dir_name=\"transfer_learning_exercise\",\n",
    "        experiment_name=\"10_food_classes_10_percent_feature_extraction\"),\n",
    "                tf.keras.callbacks.ModelCheckpoint(\n",
    "                    \"10_food_classes_10_percent_model_1_checkpoint.ckpt\",\n",
    "                    save_best_only=False\n",
    "                    ,save_freq=\"epoch\"\n",
    "                    ,save_weights_only=True)]\n",
    ")"
   ]
  },
  {
   "cell_type": "code",
   "execution_count": null,
   "metadata": {},
   "outputs": [],
   "source": [
    "plot_loss_curves(history_1)"
   ]
  },
  {
   "cell_type": "code",
   "execution_count": null,
   "metadata": {},
   "outputs": [],
   "source": [
    "model_1.load_weights(\"10_food_classes_10_percent_model_1_checkpoint.ckpt\")\n",
    "\n",
    "model_1.summary()"
   ]
  },
  {
   "cell_type": "code",
   "execution_count": null,
   "metadata": {},
   "outputs": [],
   "source": [
    "for i,layer in enumerate(model_1.layers):\n",
    "    print(i,layer.name,layer.trainable)"
   ]
  },
  {
   "cell_type": "code",
   "execution_count": null,
   "metadata": {},
   "outputs": [],
   "source": [
    "base_model.trainable = True\n",
    "\n",
    "for i,layer in enumerate(model_1.layers[2].layers):\n",
    "    print(i,layer.name,layer.trainable)"
   ]
  },
  {
   "cell_type": "code",
   "execution_count": null,
   "metadata": {},
   "outputs": [],
   "source": [
    "for i, layer in enumerate(model_1.layers[2].layers[:-20]):\n",
    "    layer.trainable = False"
   ]
  },
  {
   "cell_type": "code",
   "execution_count": null,
   "metadata": {},
   "outputs": [],
   "source": [
    "for i,layer in enumerate(model_1.layers[2].layers[-20:]):\n",
    "    print(i, layer.name, layer.trainable)"
   ]
  },
  {
   "cell_type": "code",
   "execution_count": null,
   "metadata": {},
   "outputs": [],
   "source": [
    "train_dir_all_data = \"10_food_classes_all_data/train/\"\n",
    "\n",
    "train_all_data = tf.keras.preprocessing.image_dataset_from_directory(\n",
    "    train_dir_all_data,\n",
    "    label_mode=\"categorical\",\n",
    "    batch_size=32,\n",
    "    image_size=(224,224),\n",
    "    shuffle=True\n",
    ")"
   ]
  },
  {
   "cell_type": "code",
   "execution_count": null,
   "metadata": {},
   "outputs": [],
   "source": [
    "fine_tuned_initial_epochs = initial_epochs + 10\n",
    "\n",
    "model_1.compile(\n",
    "    loss = tf.keras.losses.CategoricalCrossentropy(),\n",
    "    optimizer = tf.keras.optimizers.Adam(lr=0.0001),\n",
    "    metrics = [\"accuracy\"]\n",
    ")\n",
    "\n",
    "history_1_fine_tuned = model_1.fit(\n",
    "    train_all_data,\n",
    "    epochs=fine_tuned_initial_epochs,\n",
    "    steps_per_epoch=len(train_all_data),\n",
    "    validation_data=valid_data_10_percent,\n",
    "    validation_steps=len(valid_data_10_percent),\n",
    "    initial_epoch = history_1.epoch[-1],\n",
    "    callbacks = [create_tensorboard_callback(\n",
    "        dir_name=\"transfer_learning_exercise\",\n",
    "        experiment_name=\"10_food_classes_10_percent_model_1_fine_tuned\"),\n",
    "                tf.keras.callbacks.ModelCheckpoint(\n",
    "                    \"fine_tuned_model_1_exercise_checkpoint.ckpt\",\n",
    "                    save_best_only=False,\n",
    "                    save_freq=\"epoch\",\n",
    "                    save_weights_only=True\n",
    "                )]\n",
    ") "
   ]
  },
  {
   "cell_type": "code",
   "execution_count": null,
   "metadata": {},
   "outputs": [],
   "source": [
    "compare_historys(history_1,history_1_fine_tuned,initial_epochs=10) "
   ]
  }
 ],
 "metadata": {
  "kernelspec": {
   "display_name": "Python 3.10.4 64-bit",
   "language": "python",
   "name": "python3"
  },
  "language_info": {
   "name": "python",
   "version": "3.10.4"
  },
  "orig_nbformat": 4,
  "vscode": {
   "interpreter": {
    "hash": "e15f063e7e42353c9736ef962fc7c67de892cf5c7bb88439fb47c3c850fa6062"
   }
  }
 },
 "nbformat": 4,
 "nbformat_minor": 2
}
